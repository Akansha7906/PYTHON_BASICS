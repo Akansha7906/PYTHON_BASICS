{
  "nbformat": 4,
  "nbformat_minor": 0,
  "metadata": {
    "colab": {
      "provenance": []
    },
    "kernelspec": {
      "name": "python3",
      "display_name": "Python 3"
    },
    "language_info": {
      "name": "python"
    }
  },
  "cells": [
    {
      "cell_type": "code",
      "execution_count": null,
      "metadata": {
        "id": "rCCAH6lGW28p"
      },
      "outputs": [],
      "source": []
    },
    {
      "cell_type": "markdown",
      "source": [
        "Q1   What is Python, and why is it popular ?\n",
        "\n",
        "\n",
        "--->Python is a high-level, interpreted, and general-purpose programming language developed by Guido van Rossum in 1991. It is widely known for its simple, English-like syntax and ability to support multiple programming styles such as procedural, object-oriented, and functional programming.\n",
        "\n",
        "Python is popular because:\n",
        "\n",
        "1-It is easy to learn and read, even for beginners.\n",
        "\n",
        "2-It has a large collection of libraries and frameworks (like NumPy, Pandas, TensorFlow, Django) that speed up development.\n",
        "\n",
        "3-It is versatile and used in data science, machine learning, web development, automation, AI, cybersecurity, and more.\n",
        "\n",
        "4-Python is cross-platform (works on Windows, Mac, Linux).\n",
        "\n",
        "5-It has a large global community that provides support, tutorials, and ready-made solutions.\n",
        "\n",
        "6-It is open-source and free to use.\n",
        "\n",
        "7-Python integrates easily with other programming languages and databases."
      ],
      "metadata": {
        "id": "HpFikqmdZtQs"
      }
    },
    {
      "cell_type": "markdown",
      "source": [],
      "metadata": {
        "id": "2foApSJOa2KQ"
      }
    },
    {
      "cell_type": "markdown",
      "source": [
        "Q2--What is an interpreter in Python?\n",
        "\n",
        "--->An interpreter in Python is a program that executes Python code step by step, one line at a time.\n",
        "It first translates the source code into an intermediate form called bytecode, and then this bytecode is executed by the Python Virtual Machine (PVM).\n",
        "This makes Python easier to test and run without needing separate compilation."
      ],
      "metadata": {
        "id": "1Zit8RtEa4os"
      }
    },
    {
      "cell_type": "markdown",
      "source": [
        "Q3-- What are pre-defined keywords in Python?\n",
        "\n",
        "--->Pre-defined keywords in Python are the reserved words that have special meaning in the Python language.\n",
        "They are used to define the syntax and structure of Python programs and cannot be used as identifiers (like variable names, function names, or class names).\n",
        "Examples of Python keywords include:\n",
        "if, else, while, for, def, class, import, True, False, None, and, or, not, return, break, continue.\n"
      ],
      "metadata": {
        "id": "czN4LhSlb02-"
      }
    },
    {
      "cell_type": "markdown",
      "source": [
        "Q4--Can keywords be used as variable names?\n",
        "\n",
        "--->In Python, keywords are reserved words that have special meaning and are part of the language syntax.\n",
        "They are used to define conditions, loops, functions, classes, and other programming constructs.\n",
        "Because of their predefined role, keywords cannot be used as variable names, function names, or identifiers.\n",
        "If we try to use a keyword as a variable name, Python will generate a SyntaxError.\n",
        "For example, writing if = 5 will give an error since if is a keyword.\n",
        "Instead, we should use other valid names like num = 5 or value = 5."
      ],
      "metadata": {
        "id": "1c0WLVURcOPU"
      }
    },
    {
      "cell_type": "markdown",
      "source": [
        "Q5-What is mutability in Python?\n",
        "\n",
        "--->Mutability in Python refers to the property of an object that allows its content to be changed or modified after creation.\n",
        "\n",
        "1.Mutable objects: Their values can be updated without changing their identity in memory. Examples include lists, dictionaries, and sets.\n",
        "\n",
        "2.Immutable objects: Their values cannot be changed once created. Any modification creates a new object. Examples include integers, floats, strings, and tuples."
      ],
      "metadata": {
        "id": "dFLBSjfxcv28"
      }
    },
    {
      "cell_type": "markdown",
      "source": [
        "Q6- Why are lists mutable, but tuples are immutable?\n",
        "\n",
        "--->In Python, lists are mutable because they are designed to store and manage collections of data that may change over time. You can add, remove, or update elements in a list without creating a new object.\n",
        "\n",
        "On the other hand, tuples are immutable because they are meant to be fixed collections of items. Once a tuple is created, its contents cannot be modified. This immutability makes tuples faster, hashable (can be used as dictionary keys), and more memory-efficient compared to lists."
      ],
      "metadata": {
        "id": "GaH5q-DQdM4M"
      }
    },
    {
      "cell_type": "markdown",
      "source": [
        "Q7-What is the difference between “==” and “is” operators in Python?\n",
        "\n",
        "--->In Python, both == and is are comparison operators, but they work differently:\n",
        "\n",
        "== operator → Checks value equality.\n",
        "\n",
        "1-It compares whether the values of two objects are the same, even if they are stored at different memory locations.\n",
        "\n",
        "is operator → Checks identity equality.\n",
        "\n",
        "2-It compares whether two variables refer to the same object in memory (same identity)."
      ],
      "metadata": {
        "id": "glKbmmHjdiRk"
      }
    },
    {
      "cell_type": "markdown",
      "source": [
        "Q8-What are logical operators in Python?\n",
        "\n",
        "--->Logical operators in Python are used to combine conditional statements and return a Boolean value (True or False).\n",
        "There are three main logical operators in Python:\n",
        "\n",
        "and → Returns True if both conditions are true.\n",
        "\n",
        "or → Returns True if at least one condition is true.\n",
        "\n",
        "not → Returns the opposite of the condition (negation"
      ],
      "metadata": {
        "id": "TvF8lyF2eAU7"
      }
    },
    {
      "cell_type": "markdown",
      "source": [
        "Q9- What is type casting in Python?Type casting in Python is the process of converting one data type into another.\n",
        "It allows you to change the type of a variable so it can be used in different operations.\n",
        "There are two types of type casting in Python:\n",
        "\n",
        "1-Implicit Type Casting (Type Conversion) → Done automatically by Python.\n",
        "\n",
        "Example:\n",
        "\n",
        "x = 5       # int\n",
        "y = 2.5     # float\n",
        "result = x + y  \n",
        "print(result)   # 7.5 (int is converted to float automatically)\n",
        "\n",
        "\n",
        "2-Explicit Type Casting (Type Casting by User) → Done manually using functions like int(), float(), str(), list(), etc.\n",
        "\n",
        "Example:\n",
        "\n",
        "num = \"100\"\n",
        "print(int(num) + 50)   # 150 (string converted to int)\n"
      ],
      "metadata": {
        "id": "bUMj4nfIeVW8"
      }
    },
    {
      "cell_type": "markdown",
      "source": [
        "Q 10--What is the difference between implicit and explicit type casting?\n",
        "\n",
        "--->In Python, type casting means converting one data type into another. It can be done in two ways:\n",
        "\n",
        "1-Implicit Type Casting (Type Conversion)\n",
        "\n",
        "Done automatically by Python.\n",
        "\n",
        "Python converts smaller data types into larger compatible ones to avoid data loss.\n",
        "\n",
        "Example:\n",
        "\n",
        "x = 5      # int\n",
        "y = 2.5    # float\n",
        "result = x + y  \n",
        "print(result)   # 7.5 (int is converted to float automatically)\n",
        "\n",
        "\n",
        "2-Explicit Type Casting (Type Casting by User)\n",
        "\n",
        "Done manually by the programmer using built-in functions like int(), float(), str(), etc.\n",
        "\n",
        "Example:\n",
        "\n",
        "num = \"100\"\n",
        "print(int(num) + 50)   # 150 (string explicitly converted to int"
      ],
      "metadata": {
        "id": "Oh6kccozer31"
      }
    },
    {
      "cell_type": "markdown",
      "source": [
        "Q11-- What is the purpose of conditional statements in Python?\n",
        "\n",
        "--->The purpose of conditional statements in Python is to allow the program to make decisions and execute certain blocks of code based on specific conditions.\n",
        "They help in controlling the flow of execution depending on whether a condition is True or False.\n",
        "\n",
        "The main conditional statements are: if, if-else, and if-elif-else.\n",
        "\n",
        "2-These statements check conditions using relational or logical operators and then decide which block of code should run"
      ],
      "metadata": {
        "id": "gWVvuJuifOdd"
      }
    },
    {
      "cell_type": "markdown",
      "source": [
        "Q12--- How does the elif statement work?\n",
        "\n",
        "--->The elif statement in Python stands for “else if”.\n",
        "It allows you to check multiple conditions one after another.\n",
        "\n",
        "The program tests each condition in order.\n",
        "\n",
        "As soon as one condition evaluates to True, the corresponding block of code runs, and the rest are skipped.\n",
        "\n",
        "If none of the conditions are true, the optional else block runs"
      ],
      "metadata": {
        "id": "QTlsk9bbfvyb"
      }
    },
    {
      "cell_type": "markdown",
      "source": [
        "Q13---What is the difference between for and while loops?\n",
        "\n",
        "--->In Python, both for loop and while loop are used for iteration, but they work differently:\n",
        "\n",
        "1__for loop\n",
        "\n",
        "Used when the number of iterations is known (or when iterating over a sequence like list, tuple, string, or range).\n",
        "\n",
        "It automatically takes each value from the sequence.\n",
        "\n",
        "Example:\n",
        "\n",
        "for i in range(5):\n",
        "    print(i)   # prints 0 to 4\n",
        "\n",
        "\n",
        "2__while loop\n",
        "\n",
        "Used when the number of iterations is not known in advance.\n",
        "\n",
        "It keeps executing as long as the condition remains True.\n",
        "\n",
        "Example:\n",
        "\n",
        "x = 0\n",
        "while x < 5:\n",
        "    print(x)\n",
        "    x += 1\n"
      ],
      "metadata": {
        "id": "06jeRpBVgIhG"
      }
    },
    {
      "cell_type": "code",
      "source": [],
      "metadata": {
        "id": "pttVDhlyh90i"
      },
      "execution_count": null,
      "outputs": []
    },
    {
      "cell_type": "code",
      "source": [],
      "metadata": {
        "id": "p3zoPmYYh9v7"
      },
      "execution_count": null,
      "outputs": []
    },
    {
      "cell_type": "markdown",
      "source": [
        "Q14---Describe a scenario where a while loop is more suitable than a for loop?\n",
        "\n",
        "---->A while loop is more suitable when the number of iterations is not known in advance and depends on a condition being met."
      ],
      "metadata": {
        "id": "SHQkNSKXglru"
      }
    },
    {
      "cell_type": "markdown",
      "source": [
        "##Q1---Write a python programe to print \"Hello,World!\"\n",
        "    "
      ],
      "metadata": {
        "id": "PNq2_uL9iEtT"
      }
    },
    {
      "cell_type": "code",
      "source": [
        "print(\"Hello,World!\")"
      ],
      "metadata": {
        "colab": {
          "base_uri": "https://localhost:8080/"
        },
        "id": "eGEhfzcNko_b",
        "outputId": "40ffc958-ed72-406b-af9c-73911e75304a"
      },
      "execution_count": null,
      "outputs": [
        {
          "output_type": "stream",
          "name": "stdout",
          "text": [
            "Hello,World!\n"
          ]
        }
      ]
    },
    {
      "cell_type": "code",
      "source": [
        "\n",
        "\n"
      ],
      "metadata": {
        "id": "o9uIMMkmj_2-"
      },
      "execution_count": null,
      "outputs": []
    },
    {
      "cell_type": "markdown",
      "source": [
        "##Q2--Write a Python program that displays your name and age?\n"
      ],
      "metadata": {
        "id": "GwVelF-lnbAi"
      }
    },
    {
      "cell_type": "code",
      "source": [
        "NAME=\"AKANSHA SINGH\"\n",
        "AGE=22\n",
        "print(\"NAME:\",NAME)\n",
        "print(\"AGE:\",AGE)"
      ],
      "metadata": {
        "colab": {
          "base_uri": "https://localhost:8080/"
        },
        "id": "msc-8gZRmG6z",
        "outputId": "192a8243-0d01-4138-afd2-1cd1a6391b01"
      },
      "execution_count": null,
      "outputs": [
        {
          "output_type": "stream",
          "name": "stdout",
          "text": [
            "NAME: AKANSHA SINGH\n",
            "AGE: 22\n"
          ]
        }
      ]
    },
    {
      "cell_type": "markdown",
      "source": [],
      "metadata": {
        "id": "roRFz1FXqDRS"
      }
    },
    {
      "cell_type": "markdown",
      "source": [
        "Q3--Write code to print all the pre-defined keywords in Python using the keyword library?"
      ],
      "metadata": {
        "id": "kHvLQFhfqmop"
      }
    },
    {
      "cell_type": "code",
      "source": [
        "import keyword\n",
        "print(keyword.kwlist)\n"
      ],
      "metadata": {
        "colab": {
          "base_uri": "https://localhost:8080/"
        },
        "id": "lBUk5I4NpgUa",
        "outputId": "5c25d9f3-d2bf-43ed-ac6c-2985e7d7ca01"
      },
      "execution_count": null,
      "outputs": [
        {
          "output_type": "stream",
          "name": "stdout",
          "text": [
            "['False', 'None', 'True', 'and', 'as', 'assert', 'async', 'await', 'break', 'class', 'continue', 'def', 'del', 'elif', 'else', 'except', 'finally', 'for', 'from', 'global', 'if', 'import', 'in', 'is', 'lambda', 'nonlocal', 'not', 'or', 'pass', 'raise', 'return', 'try', 'while', 'with', 'yield']\n"
          ]
        }
      ]
    },
    {
      "cell_type": "markdown",
      "source": [
        "Q4-- Write a program that checks if a given word is a Python keyword?"
      ],
      "metadata": {
        "id": "-lRPD72FtXea"
      }
    },
    {
      "cell_type": "code",
      "source": [
        "import keyword\n",
        "print (keyword.iskeyword(\"if\"))"
      ],
      "metadata": {
        "colab": {
          "base_uri": "https://localhost:8080/"
        },
        "id": "gD_LsrRntkq9",
        "outputId": "2365a209-b5e5-43b4-d59e-853745fca3bf"
      },
      "execution_count": null,
      "outputs": [
        {
          "output_type": "stream",
          "name": "stdout",
          "text": [
            "True\n"
          ]
        }
      ]
    },
    {
      "cell_type": "markdown",
      "source": [
        "Q5--Create a list and tuple in Python, and demonstrate how attempting to change an element works differently for each?"
      ],
      "metadata": {
        "id": "xr2kG91RuM35"
      }
    },
    {
      "cell_type": "code",
      "source": [
        "list=[1,2,3,4,5]\n",
        "list[2]=50\n",
        "print(list)\n",
        "tuple=(1,2,3,4,5)\n",
        "tuple[2]=50\n",
        "print(tuple)\n",
        "#Changes in list are possible but impossible in tuple changes in tuple are throwing error."
      ],
      "metadata": {
        "colab": {
          "base_uri": "https://localhost:8080/",
          "height": 211
        },
        "id": "ow2JMv4dvRRh",
        "outputId": "36a6d4d1-727f-4781-f05f-ce8ab5965e29"
      },
      "execution_count": null,
      "outputs": [
        {
          "output_type": "stream",
          "name": "stdout",
          "text": [
            "[1, 2, 50, 4, 5]\n"
          ]
        },
        {
          "output_type": "error",
          "ename": "TypeError",
          "evalue": "'tuple' object does not support item assignment",
          "traceback": [
            "\u001b[0;31m---------------------------------------------------------------------------\u001b[0m",
            "\u001b[0;31mTypeError\u001b[0m                                 Traceback (most recent call last)",
            "\u001b[0;32m/tmp/ipython-input-695382393.py\u001b[0m in \u001b[0;36m<cell line: 0>\u001b[0;34m()\u001b[0m\n\u001b[1;32m      3\u001b[0m \u001b[0mprint\u001b[0m\u001b[0;34m(\u001b[0m\u001b[0mlist\u001b[0m\u001b[0;34m)\u001b[0m\u001b[0;34m\u001b[0m\u001b[0;34m\u001b[0m\u001b[0m\n\u001b[1;32m      4\u001b[0m \u001b[0mtuple\u001b[0m\u001b[0;34m=\u001b[0m\u001b[0;34m(\u001b[0m\u001b[0;36m1\u001b[0m\u001b[0;34m,\u001b[0m\u001b[0;36m2\u001b[0m\u001b[0;34m,\u001b[0m\u001b[0;36m3\u001b[0m\u001b[0;34m,\u001b[0m\u001b[0;36m4\u001b[0m\u001b[0;34m,\u001b[0m\u001b[0;36m5\u001b[0m\u001b[0;34m)\u001b[0m\u001b[0;34m\u001b[0m\u001b[0;34m\u001b[0m\u001b[0m\n\u001b[0;32m----> 5\u001b[0;31m \u001b[0mtuple\u001b[0m\u001b[0;34m[\u001b[0m\u001b[0;36m2\u001b[0m\u001b[0;34m]\u001b[0m\u001b[0;34m=\u001b[0m\u001b[0;36m50\u001b[0m\u001b[0;34m\u001b[0m\u001b[0;34m\u001b[0m\u001b[0m\n\u001b[0m\u001b[1;32m      6\u001b[0m \u001b[0mprint\u001b[0m\u001b[0;34m(\u001b[0m\u001b[0mtuple\u001b[0m\u001b[0;34m)\u001b[0m\u001b[0;34m\u001b[0m\u001b[0;34m\u001b[0m\u001b[0m\n",
            "\u001b[0;31mTypeError\u001b[0m: 'tuple' object does not support item assignment"
          ]
        }
      ]
    },
    {
      "cell_type": "markdown",
      "source": [
        "Q6. Write a function to demonstrate the behavior of mutable and immutable arguments?"
      ],
      "metadata": {
        "id": "-7bqys_s567N"
      }
    },
    {
      "cell_type": "code",
      "source": [
        "def modify_list(lst):\n",
        "  lst.append(100)\n",
        "\n",
        "def modify_int(n):\n",
        "  n+= 10\n",
        "\n",
        "a=[1,2]\n",
        "modify_list(a) #changes original list\n",
        "\n",
        "b=5\n",
        "modify_int(b) #Does not change original integer"
      ],
      "metadata": {
        "id": "zkLlAcXfpboC"
      },
      "execution_count": null,
      "outputs": []
    },
    {
      "cell_type": "markdown",
      "source": [
        "Q7. Write a program that performs basic arithmetic operations on two user-input numbers?"
      ],
      "metadata": {
        "id": "Y6rlrDDV96ka"
      }
    },
    {
      "cell_type": "code",
      "source": [
        "a=int(input(\"Enter first number:\"))\n",
        "b=int(input(\"Enter second number:\"))\n",
        "print(\"SUM:\",a+b)\n",
        "print(\"difference:\",a-b)\n",
        "print(\"multiply:\",a*b)\n",
        "print(\"divide:\",a/b)"
      ],
      "metadata": {
        "colab": {
          "base_uri": "https://localhost:8080/"
        },
        "id": "7z8YEIoWn3-S",
        "outputId": "053f8c91-a7b9-4c97-8b99-1b2d0fd239d1"
      },
      "execution_count": null,
      "outputs": [
        {
          "output_type": "stream",
          "name": "stdout",
          "text": [
            "Enter first number:20\n",
            "Enter second number:30\n",
            "SUM: 50\n",
            "difference: -10\n",
            "multiply: 600\n",
            "divide: 0.6666666666666666\n"
          ]
        }
      ]
    },
    {
      "cell_type": "markdown",
      "source": [
        "Q8. Write a program to demonstrate the use of logical operators?"
      ],
      "metadata": {
        "id": "DaeVY-29EJ9D"
      }
    },
    {
      "cell_type": "code",
      "source": [
        "a=30\n",
        "b=20\n",
        "print(a<b or a>b)\n",
        "print(a>b and a>b)\n",
        "print(not a==b)"
      ],
      "metadata": {
        "colab": {
          "base_uri": "https://localhost:8080/"
        },
        "id": "td492twOBr9A",
        "outputId": "ca4d7645-d54b-4b64-847c-e5b5926478eb"
      },
      "execution_count": null,
      "outputs": [
        {
          "output_type": "stream",
          "name": "stdout",
          "text": [
            "True\n",
            "True\n",
            "True\n"
          ]
        }
      ]
    },
    {
      "cell_type": "markdown",
      "source": [
        "Q9. Write a Python program to convert user input from string to integer, float, and boolean types?"
      ],
      "metadata": {
        "id": "-JkQFT-aFuyx"
      }
    },
    {
      "cell_type": "code",
      "source": [
        "a=input(\"Enter a number:\")\n",
        "print(int(a))\n",
        "print(float(a))\n",
        "print(bool(a))"
      ],
      "metadata": {
        "colab": {
          "base_uri": "https://localhost:8080/"
        },
        "id": "kc_oXYfPFbYA",
        "outputId": "039335a3-3176-4ea3-e1aa-de63fb14e039"
      },
      "execution_count": null,
      "outputs": [
        {
          "output_type": "stream",
          "name": "stdout",
          "text": [
            "Enter a number:30\n",
            "30\n",
            "30.0\n",
            "True\n"
          ]
        }
      ]
    },
    {
      "cell_type": "markdown",
      "source": [
        "Q10. Write code to demonstrate type casting with list elements?"
      ],
      "metadata": {
        "id": "9eB6WOgIIgca"
      }
    },
    {
      "cell_type": "code",
      "source": [
        "list=[1,2,3,4,5]\n",
        "list[2]=40\n",
        "print(list)#Type casting can be done in list because list are mutable."
      ],
      "metadata": {
        "colab": {
          "base_uri": "https://localhost:8080/"
        },
        "id": "XaWA_VRBHx6v",
        "outputId": "bdd32b0e-bced-4718-a4bb-69f41ab46995"
      },
      "execution_count": null,
      "outputs": [
        {
          "output_type": "stream",
          "name": "stdout",
          "text": [
            "[1, 2, 40, 4, 5]\n"
          ]
        }
      ]
    },
    {
      "cell_type": "code",
      "source": [],
      "metadata": {
        "id": "59YtJJfAJpMv"
      },
      "execution_count": null,
      "outputs": []
    },
    {
      "cell_type": "markdown",
      "source": [
        "Q11.Write a program that checks if a number is positive ,negative or zero?"
      ],
      "metadata": {
        "id": "PvzRi7UZcu5i"
      }
    },
    {
      "cell_type": "code",
      "source": [
        "num=30\n",
        "if(num >0):\n",
        "  print(\"the number is positive\")\n",
        "elif(num<0):\n",
        "  print(\"the number is negative\")\n",
        "else:\n",
        "  print(\"the number is zero\")"
      ],
      "metadata": {
        "colab": {
          "base_uri": "https://localhost:8080/"
        },
        "id": "OU8XHMZidhsE",
        "outputId": "c85df425-38fa-43b5-956f-89ebc9362a76"
      },
      "execution_count": null,
      "outputs": [
        {
          "output_type": "stream",
          "name": "stdout",
          "text": [
            "the number is positive\n"
          ]
        }
      ]
    },
    {
      "cell_type": "markdown",
      "source": [
        "Q12 Write a for loop to print numbers from 1 to 10?"
      ],
      "metadata": {
        "id": "ttmezukVjALq"
      }
    },
    {
      "cell_type": "code",
      "source": [
        "for i in range (1,11):\n",
        "  print(i)"
      ],
      "metadata": {
        "colab": {
          "base_uri": "https://localhost:8080/"
        },
        "id": "fDolHxakkiPc",
        "outputId": "61c2f87f-2b66-4f4d-dc52-9860fb2dac0d"
      },
      "execution_count": null,
      "outputs": [
        {
          "output_type": "stream",
          "name": "stdout",
          "text": [
            "1\n",
            "2\n",
            "3\n",
            "4\n",
            "5\n",
            "6\n",
            "7\n",
            "8\n",
            "9\n",
            "10\n"
          ]
        }
      ]
    },
    {
      "cell_type": "markdown",
      "source": [
        "Q13 Write a python program to find the sum of all even numbers between 1 and 50?"
      ],
      "metadata": {
        "id": "5jhZ9vYKniQa"
      }
    },
    {
      "cell_type": "code",
      "source": [
        "sum_even = 0\n",
        "for i in range (2,51,2):\n",
        "  sum_even += i\n",
        "print(\"sum:\",sum_even)"
      ],
      "metadata": {
        "colab": {
          "base_uri": "https://localhost:8080/"
        },
        "id": "tfW_XKbun2LE",
        "outputId": "45b85ee3-ae38-43cc-b1ca-f6a492dbbc6d"
      },
      "execution_count": null,
      "outputs": [
        {
          "output_type": "stream",
          "name": "stdout",
          "text": [
            "sum: 650\n"
          ]
        }
      ]
    },
    {
      "cell_type": "markdown",
      "source": [
        "Q14 Write a program to reverse a string using a while loop?"
      ],
      "metadata": {
        "id": "EiF9GB6Eqeki"
      }
    },
    {
      "cell_type": "code",
      "source": [
        "s= input(\"Enter a string:\")\n",
        "i=len(s)-1\n",
        "rev = \"\"\n",
        "while i>= 0:\n",
        "  rev += s[i]\n",
        "  i -= 1\n",
        "print(\"Reversed :\" ,rev)"
      ],
      "metadata": {
        "colab": {
          "base_uri": "https://localhost:8080/"
        },
        "id": "8jsMS7oiqtaL",
        "outputId": "72e191b5-26f8-4634-e679-61dcadb1f23e"
      },
      "execution_count": null,
      "outputs": [
        {
          "output_type": "stream",
          "name": "stdout",
          "text": [
            "Enter a string:pwskills\n",
            "Reversed : sllikswp\n"
          ]
        }
      ]
    },
    {
      "cell_type": "markdown",
      "source": [
        "Q15 Write a python program to calculate the factorial of a number provided by the user using a while loop?"
      ],
      "metadata": {
        "id": "hu1P0pSgqvfZ"
      }
    },
    {
      "cell_type": "code",
      "source": [
        "n=int(input(\"Enter a number:\")\n",
        "fact=1\n",
        "i=1\n",
        "while i<=n:\n",
        "      fact *= i\n",
        "      i += 1\n",
        "print(\"Factorial:\",fact)\n"
      ],
      "metadata": {
        "colab": {
          "base_uri": "https://localhost:8080/",
          "height": 106
        },
        "id": "CBG5sAANrBFq",
        "outputId": "6fa87669-8a60-4e73-f5a1-9dbac5aaf1ee"
      },
      "execution_count": null,
      "outputs": [
        {
          "output_type": "error",
          "ename": "SyntaxError",
          "evalue": "'(' was never closed (ipython-input-1492254592.py, line 1)",
          "traceback": [
            "\u001b[0;36m  File \u001b[0;32m\"/tmp/ipython-input-1492254592.py\"\u001b[0;36m, line \u001b[0;32m1\u001b[0m\n\u001b[0;31m    n=int(input(\"Enter a number:\")\u001b[0m\n\u001b[0m         ^\u001b[0m\n\u001b[0;31mSyntaxError\u001b[0m\u001b[0;31m:\u001b[0m '(' was never closed\n"
          ]
        }
      ]
    },
    {
      "cell_type": "code",
      "source": [
        "n=int(input(\"Enter a number :\"))\n",
        "fact=1\n",
        "i=1\n",
        "while i <=n\n",
        "fact *= i\n",
        "i += 1\n",
        "print(\"Factorial:\",fact)"
      ],
      "metadata": {
        "colab": {
          "base_uri": "https://localhost:8080/",
          "height": 106
        },
        "id": "OT3PJgxQuCOo",
        "outputId": "7b766824-716b-48c6-f7b1-577b5fb4b2e5"
      },
      "execution_count": null,
      "outputs": [
        {
          "output_type": "error",
          "ename": "SyntaxError",
          "evalue": "expected ':' (ipython-input-2988230370.py, line 4)",
          "traceback": [
            "\u001b[0;36m  File \u001b[0;32m\"/tmp/ipython-input-2988230370.py\"\u001b[0;36m, line \u001b[0;32m4\u001b[0m\n\u001b[0;31m    while i <=n\u001b[0m\n\u001b[0m                ^\u001b[0m\n\u001b[0;31mSyntaxError\u001b[0m\u001b[0;31m:\u001b[0m expected ':'\n"
          ]
        }
      ]
    },
    {
      "cell_type": "code",
      "source": [],
      "metadata": {
        "id": "LiFTAZF5fNNH"
      },
      "execution_count": null,
      "outputs": []
    }
  ]
}